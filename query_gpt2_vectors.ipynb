{
 "cells": [
  {
   "cell_type": "markdown",
   "metadata": {},
   "source": [
    "### load gpt2 model"
   ]
  },
  {
   "cell_type": "code",
   "execution_count": null,
   "metadata": {},
   "outputs": [],
   "source": [
    "import torch\n",
    "import torch.nn as nn\n",
    "from GPT2 import GPT2Model, GPT2Tokenizer\n",
    "import os\n",
    "# os.environ['CUDA_VISIBLE_DEVICES'] = ''\n",
    "device = 'cuda' #'cuda'\n",
    "\n",
    "\n",
    "def tokenize_input(inputStr, tokenizer, seq_length=1024):\n",
    "    pad_id = tokenizer.encoder['<pad>']\n",
    "    tokenized_sentence = tokenizer.encode(inputStr)[:seq_length-20]\n",
    "    tokens = tokenized_sentence\n",
    "    token_length = len(tokens)\n",
    "    tokens.extend([pad_id] * (seq_length - token_length))\n",
    "    tokens = torch.tensor(tokens, dtype=torch.long)\n",
    "    return tokens.reshape(1,1024), [token_length]\n",
    "\n",
    "tokenizer = GPT2Tokenizer(\n",
    "    'GPT2/bpe/vocab.json',\n",
    "    'GPT2/bpe/chinese_vocab.model',\n",
    "    max_len=512)\n",
    "    \n",
    "model = GPT2Model(\n",
    "    vocab_size=30000,\n",
    "    layer_size=12,\n",
    "    block_size=1024,\n",
    "    embedding_dropout=0.0,\n",
    "    embedding_size=768,\n",
    "    num_attention_heads=12,\n",
    "    attention_dropout=0.0,\n",
    "    residual_dropout=0.0\n",
    ")\n",
    "\n",
    "state_dict = torch.load('../models/model_pretrain_distill.pth', map_location='cpu')\n",
    "model.load_state_dict(state_dict)\n",
    "\n",
    "model.eval()\n",
    "\n",
    "model.to(device)\n",
    "\n",
    "print('loaded success')"
   ]
  },
  {
   "cell_type": "markdown",
   "metadata": {},
   "source": [
    "### get vectors for all documents"
   ]
  },
  {
   "cell_type": "code",
   "execution_count": null,
   "metadata": {},
   "outputs": [],
   "source": [
    "import numpy as np\n",
    "from tqdm import tqdm\n",
    "\n",
    "data = np.load('./data/eastmoney_full_stocks_list_nlu_tencent.pkl', allow_pickle=True)"
   ]
  },
  {
   "cell_type": "code",
   "execution_count": null,
   "metadata": {},
   "outputs": [],
   "source": [
    "info_dict = {}\n",
    "\n",
    "for item in data:\n",
    "    info_dict[item['ticker_id']] = item['baike_summary'] + item['baike_content']"
   ]
  },
  {
   "cell_type": "code",
   "execution_count": null,
   "metadata": {},
   "outputs": [],
   "source": [
    "all = []\n",
    "\n",
    "for idx in tqdm(range(len(data))):\n",
    "    try:\n",
    "        content = data[idx]['baike_content'] + data[idx]['baike_summary']\n",
    "        tokens, token_length = tokenize_input(content, tokenizer, seq_length=1024)\n",
    "        output = model(tokens.to(device))\n",
    "        vector = output[0,token_length[0]].detach().cpu().numpy()\n",
    "\n",
    "        one = {\n",
    "            'ticker_id': data[idx]['ticker_id'],\n",
    "            'ticker_name': data[idx]['ticker_name'],\n",
    "            'vector': vector\n",
    "        }\n",
    "        all.append(one)\n",
    "    except Exception:\n",
    "        pass"
   ]
  },
  {
   "cell_type": "code",
   "execution_count": null,
   "metadata": {},
   "outputs": [],
   "source": [
    "import pickle\n",
    "\n",
    "with open('./data_ignore/vectors_gpt2.pkl','wb') as f:\n",
    "    pickle.dump(all, f)"
   ]
  },
  {
   "cell_type": "code",
   "execution_count": null,
   "metadata": {},
   "outputs": [],
   "source": []
  },
  {
   "cell_type": "code",
   "execution_count": null,
   "metadata": {},
   "outputs": [],
   "source": []
  },
  {
   "cell_type": "markdown",
   "metadata": {},
   "source": [
    "### query by vector matrix"
   ]
  },
  {
   "cell_type": "code",
   "execution_count": null,
   "metadata": {},
   "outputs": [],
   "source": [
    "import numpy as np\n",
    "from tqdm import tqdm\n",
    "\n",
    "data = np.load('./data_ignore/vectors_gpt2.pkl', allow_pickle=True)"
   ]
  },
  {
   "cell_type": "code",
   "execution_count": null,
   "metadata": {},
   "outputs": [],
   "source": [
    "data[0]"
   ]
  },
  {
   "cell_type": "code",
   "execution_count": null,
   "metadata": {},
   "outputs": [],
   "source": [
    "ticker_names = []\n",
    "ticker_ids = []\n",
    "vectors = []\n",
    "\n",
    "for idx in tqdm(range(len(data))):\n",
    "    if 'vector' in data[idx].keys():\n",
    "        vectors.append(data[idx]['vector'])\n",
    "        ticker_ids.append(data[idx]['ticker_id'])\n",
    "        ticker_names.append(data[idx]['ticker_name'])\n"
   ]
  },
  {
   "cell_type": "code",
   "execution_count": null,
   "metadata": {},
   "outputs": [],
   "source": [
    "vectors = np.stack(vectors)"
   ]
  },
  {
   "cell_type": "code",
   "execution_count": null,
   "metadata": {},
   "outputs": [],
   "source": [
    "def similarity_vector_matrix(arr, brr):\n",
    "    return arr.dot(brr.T) / (np.sqrt(np.sum(arr*arr)) * np.sqrt(np.sum(brr*brr, axis=1)))"
   ]
  },
  {
   "cell_type": "code",
   "execution_count": null,
   "metadata": {},
   "outputs": [],
   "source": [
    "def stock_search(query, topk=10):\n",
    "\n",
    "    # query = '医疗保险，重大疾病保障'\n",
    "\n",
    "    tokens, token_length = tokenize_input(query, tokenizer, seq_length=1024)\n",
    "    output = model(tokens.to(device))\n",
    "    vector = output[0,token_length[0]].detach().cpu().numpy()\n",
    "\n",
    "    res = similarity_vector_matrix(vector, vectors)\n",
    "    idxs = np.argsort(res)[::-1]\n",
    "\n",
    "    topk_idxs = idxs[:topk]\n",
    "    names = [ticker_names[idx] for idx in topk_idxs]\n",
    "    print(names)"
   ]
  },
  {
   "cell_type": "markdown",
   "metadata": {},
   "source": [
    "- 自动驾驶，新能源汽车\n",
    "- 电影，电视剧，文化艺术\n",
    "- 啤酒，烧烤，朋友聚会\n",
    "- 医疗保险，重大疾病保障\n",
    "- 新冠肺炎"
   ]
  },
  {
   "cell_type": "code",
   "execution_count": null,
   "metadata": {},
   "outputs": [],
   "source": [
    "query = '自动驾驶，新能源汽车'\n",
    "stock_search(query)"
   ]
  },
  {
   "cell_type": "code",
   "execution_count": null,
   "metadata": {},
   "outputs": [],
   "source": [
    "query = '电影，电视剧，文化艺术'\n",
    "stock_search(query)"
   ]
  },
  {
   "cell_type": "code",
   "execution_count": null,
   "metadata": {},
   "outputs": [],
   "source": [
    "query = '啤酒，烧烤，朋友聚会'\n",
    "stock_search(query)"
   ]
  },
  {
   "cell_type": "code",
   "execution_count": null,
   "metadata": {},
   "outputs": [],
   "source": [
    "query = '医疗保险，重大疾病保障'\n",
    "stock_search(query)"
   ]
  },
  {
   "cell_type": "code",
   "execution_count": null,
   "metadata": {},
   "outputs": [],
   "source": [
    "query = '新冠肺炎'\n",
    "stock_search(query)"
   ]
  },
  {
   "cell_type": "code",
   "execution_count": null,
   "metadata": {},
   "outputs": [],
   "source": []
  }
 ],
 "metadata": {
  "interpreter": {
   "hash": "c5a0b890a7e79b4721f05b3ff9494c1f611fd8f7b88beab7f445c8fe1e25a018"
  },
  "kernelspec": {
   "display_name": "Python 3.7.11 64-bit ('cpm-finetune': conda)",
   "language": "python",
   "name": "python3"
  },
  "language_info": {
   "codemirror_mode": {
    "name": "ipython",
    "version": 3
   },
   "file_extension": ".py",
   "mimetype": "text/x-python",
   "name": "python",
   "nbconvert_exporter": "python",
   "pygments_lexer": "ipython3",
   "version": "3.8.13"
  },
  "orig_nbformat": 4
 },
 "nbformat": 4,
 "nbformat_minor": 2
}
