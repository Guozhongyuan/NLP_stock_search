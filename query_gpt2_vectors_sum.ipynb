{
 "cells": [
  {
   "cell_type": "markdown",
   "metadata": {},
   "source": [
    "### load gpt2 model"
   ]
  },
  {
   "cell_type": "code",
   "execution_count": 1,
   "metadata": {},
   "outputs": [
    {
     "name": "stdout",
     "output_type": "stream",
     "text": [
      "loaded success\n"
     ]
    }
   ],
   "source": [
    "import torch\n",
    "import torch.nn as nn\n",
    "from GPT2 import GPT2Model, GPT2Tokenizer\n",
    "import os\n",
    "# os.environ['CUDA_VISIBLE_DEVICES'] = ''\n",
    "device = 'cuda' #'cuda'\n",
    "\n",
    "\n",
    "def tokenize_input(inputStr, tokenizer, seq_length=1024):\n",
    "    pad_id = tokenizer.encoder['<pad>']\n",
    "    tokenized_sentence = tokenizer.encode(inputStr)[:seq_length-20]\n",
    "    tokens = tokenized_sentence\n",
    "    token_length = len(tokens)\n",
    "    tokens.extend([pad_id] * (seq_length - token_length))\n",
    "    tokens = torch.tensor(tokens, dtype=torch.long)\n",
    "    return tokens.reshape(1,1024), [token_length]\n",
    "\n",
    "tokenizer = GPT2Tokenizer(\n",
    "    'GPT2/bpe/vocab.json',\n",
    "    'GPT2/bpe/chinese_vocab.model',\n",
    "    max_len=512)\n",
    "    \n",
    "model = GPT2Model(\n",
    "    vocab_size=30000,\n",
    "    layer_size=12,\n",
    "    block_size=1024,\n",
    "    embedding_dropout=0.0,\n",
    "    embedding_size=768,\n",
    "    num_attention_heads=12,\n",
    "    attention_dropout=0.0,\n",
    "    residual_dropout=0.0\n",
    ")\n",
    "\n",
    "state_dict = torch.load('../models/model_pretrain_distill.pth', map_location='cpu')\n",
    "model.load_state_dict(state_dict)\n",
    "\n",
    "model.eval()\n",
    "\n",
    "model.to(device)\n",
    "\n",
    "print('loaded success')"
   ]
  },
  {
   "cell_type": "markdown",
   "metadata": {},
   "source": [
    "### demo"
   ]
  },
  {
   "cell_type": "code",
   "execution_count": null,
   "metadata": {},
   "outputs": [],
   "source": [
    "# output the vector\n",
    "\n",
    "inputStr = '这股票估计会大跌'  # the text you want to classify\n",
    "\n",
    "tokens, token_length = tokenize_input(inputStr, tokenizer, seq_length=1024)\n",
    "output = model(tokens.to(device))\n",
    "\n",
    "vector = output[0,token_length[0]]\n",
    "vector.detach().cpu().numpy()"
   ]
  },
  {
   "cell_type": "markdown",
   "metadata": {},
   "source": [
    "### get vectors for all documents"
   ]
  },
  {
   "cell_type": "code",
   "execution_count": 2,
   "metadata": {},
   "outputs": [],
   "source": [
    "import numpy as np\n",
    "from tqdm import tqdm\n",
    "\n",
    "data = np.load('./data/eastmoney_full_stocks_list_nlu_tencent.pkl', allow_pickle=True)"
   ]
  },
  {
   "cell_type": "code",
   "execution_count": 3,
   "metadata": {},
   "outputs": [
    {
     "data": {
      "text/plain": [
       "'浙江康德莱医疗器械股份有限公司成立于1987年，是康德莱集团属下一家专业生产一次性针类系列医疗器械的制造厂家。主要是生产加工,经销批发医疗器械。'"
      ]
     },
     "execution_count": 3,
     "metadata": {},
     "output_type": "execute_result"
    }
   ],
   "source": [
    "data[0]['baike_summary']"
   ]
  },
  {
   "cell_type": "code",
   "execution_count": 4,
   "metadata": {},
   "outputs": [
    {
     "name": "stderr",
     "output_type": "stream",
     "text": [
      "  0%|          | 0/510 [00:00<?, ?it/s]Building prefix dict from the default dictionary ...\n",
      "Loading model from cache /tmp/jieba.cache\n",
      "Loading model cost 0.522 seconds.\n",
      "Prefix dict has been built successfully.\n",
      "100%|██████████| 510/510 [01:04<00:00,  7.87it/s]\n"
     ]
    }
   ],
   "source": [
    "all = []\n",
    "\n",
    "for idx in tqdm(range(len(data))):\n",
    "    try:\n",
    "        content = data[idx]['baike_content'] + data[idx]['baike_summary']\n",
    "        tokens, token_length = tokenize_input(content, tokenizer, seq_length=1024)\n",
    "        output = model(tokens.to(device))\n",
    "        vector = output[0,0:token_length[0]].sum(0).detach().cpu().numpy()\n",
    "        one = {\n",
    "            'ticker_id': data[idx]['ticker_id'],\n",
    "            'ticker_name': data[idx]['ticker_name'],\n",
    "            'vector': vector\n",
    "        }\n",
    "        all.append(one)\n",
    "    except Exception as err:\n",
    "        print(err)"
   ]
  },
  {
   "cell_type": "code",
   "execution_count": 6,
   "metadata": {},
   "outputs": [],
   "source": [
    "import pickle\n",
    "\n",
    "with open('./data_ignore/vectors_gpt2_sum.pkl','wb') as f:\n",
    "    pickle.dump(all, f)"
   ]
  },
  {
   "cell_type": "code",
   "execution_count": null,
   "metadata": {},
   "outputs": [],
   "source": []
  },
  {
   "cell_type": "code",
   "execution_count": null,
   "metadata": {},
   "outputs": [],
   "source": []
  },
  {
   "cell_type": "markdown",
   "metadata": {},
   "source": [
    "### query by vector matrix"
   ]
  },
  {
   "cell_type": "code",
   "execution_count": 7,
   "metadata": {},
   "outputs": [],
   "source": [
    "import numpy as np\n",
    "from tqdm import tqdm\n",
    "\n",
    "data = np.load('./data_ignore/vectors_gpt2_sum.pkl', allow_pickle=True)"
   ]
  },
  {
   "cell_type": "code",
   "execution_count": 8,
   "metadata": {},
   "outputs": [
    {
     "data": {
      "text/plain": [
       "{'ticker_id': '603987',\n",
       " 'ticker_name': '康德莱',\n",
       " 'vector': array([ 1927.2593, -4370.8687, -4326.062 , ..., -3482.5044, -3108.6743,\n",
       "        -5288.259 ], dtype=float32)}"
      ]
     },
     "execution_count": 8,
     "metadata": {},
     "output_type": "execute_result"
    }
   ],
   "source": [
    "data[0]"
   ]
  },
  {
   "cell_type": "code",
   "execution_count": 9,
   "metadata": {},
   "outputs": [
    {
     "name": "stderr",
     "output_type": "stream",
     "text": [
      "100%|██████████| 510/510 [00:00<00:00, 329395.60it/s]\n"
     ]
    }
   ],
   "source": [
    "ticker_names = []\n",
    "ticker_ids = []\n",
    "vectors = []\n",
    "\n",
    "for idx in tqdm(range(len(data))):\n",
    "    if 'vector' in data[idx].keys():\n",
    "        vectors.append(data[idx]['vector'])\n",
    "        ticker_ids.append(data[idx]['ticker_id'])\n",
    "        ticker_names.append(data[idx]['ticker_name'])\n"
   ]
  },
  {
   "cell_type": "code",
   "execution_count": 10,
   "metadata": {},
   "outputs": [],
   "source": [
    "vectors = np.stack(vectors)"
   ]
  },
  {
   "cell_type": "code",
   "execution_count": 11,
   "metadata": {},
   "outputs": [],
   "source": [
    "def similarity_vector_matrix(arr, brr):\n",
    "    return arr.dot(brr.T) / (np.sqrt(np.sum(arr*arr)) * np.sqrt(np.sum(brr*brr, axis=1)))"
   ]
  },
  {
   "cell_type": "code",
   "execution_count": 12,
   "metadata": {},
   "outputs": [],
   "source": [
    "def stock_search(query, topk=10):\n",
    "\n",
    "    tokens, token_length = tokenize_input(query, tokenizer, seq_length=1024)\n",
    "    output = model(tokens.to(device))\n",
    "    vector = output[0,token_length[0]].detach().cpu().numpy()\n",
    "\n",
    "    res = similarity_vector_matrix(vector, vectors)\n",
    "    idxs = np.argsort(res)[::-1]\n",
    "\n",
    "    topk_idxs = idxs[:topk]\n",
    "    names = [ticker_names[idx] for idx in topk_idxs]\n",
    "    print(names)"
   ]
  },
  {
   "cell_type": "markdown",
   "metadata": {},
   "source": [
    "- 自动驾驶，新能源汽车\n",
    "- 电影，电视剧，文化艺术\n",
    "- 啤酒，烧烤，朋友聚会\n",
    "- 医疗保险，重大疾病保障\n",
    "- 新冠肺炎"
   ]
  },
  {
   "cell_type": "code",
   "execution_count": 13,
   "metadata": {},
   "outputs": [
    {
     "name": "stdout",
     "output_type": "stream",
     "text": [
      "['森麒麟', '长青股份', '瑞芯微', '广和通', '鼎阳科技', '东华科技', '传音控股', '长城汽车', '海亮股份', '京东方A']\n"
     ]
    }
   ],
   "source": [
    "query = '自动驾驶，新能源汽车'\n",
    "stock_search(query)"
   ]
  },
  {
   "cell_type": "code",
   "execution_count": 14,
   "metadata": {},
   "outputs": [
    {
     "name": "stdout",
     "output_type": "stream",
     "text": [
      "['中国化学', '长青股份', '火星人', '蓝色光标', '传音控股', '完美世界', '金山办公', '来伊份', '海亮股份', 'TCL科技']\n"
     ]
    }
   ],
   "source": [
    "query = '电影，电视剧，文化艺术'\n",
    "stock_search(query)"
   ]
  },
  {
   "cell_type": "code",
   "execution_count": 15,
   "metadata": {},
   "outputs": [
    {
     "name": "stdout",
     "output_type": "stream",
     "text": [
      "['火星人', '香飘飘', '重庆啤酒', '同花顺', '长青股份', '来伊份', '完美世界', '李子园', '森马服饰', '妙可蓝多']\n"
     ]
    }
   ],
   "source": [
    "query = '啤酒，烧烤，朋友聚会'\n",
    "stock_search(query)"
   ]
  },
  {
   "cell_type": "code",
   "execution_count": 16,
   "metadata": {},
   "outputs": [
    {
     "name": "stdout",
     "output_type": "stream",
     "text": [
      "['长青股份', '中国化学', '海亮股份', '巨化股份', 'TCL科技', '水晶光电', '东睦股份', '四川双马', '天坛生物', '金山办公']\n"
     ]
    }
   ],
   "source": [
    "query = '医疗保险，重大疾病保障'\n",
    "stock_search(query)"
   ]
  },
  {
   "cell_type": "code",
   "execution_count": 17,
   "metadata": {},
   "outputs": [
    {
     "name": "stdout",
     "output_type": "stream",
     "text": [
      "['长青股份', '中国化学', '可立克', '康希诺', '一品红', '司太立', '火星人', '海亮股份', '蓝色光标', '森麒麟']\n"
     ]
    }
   ],
   "source": [
    "query = '新冠肺炎'\n",
    "stock_search(query)"
   ]
  },
  {
   "cell_type": "code",
   "execution_count": null,
   "metadata": {},
   "outputs": [],
   "source": []
  },
  {
   "cell_type": "markdown",
   "metadata": {},
   "source": [
    "### 实验结果分析\n",
    "直接加在一起作为篇章向量效果很差，没有原来一个的效果好\n",
    "\n",
    "### TODO\n",
    "- 搜索篇章向量的方法\n",
    "- 搜索怎么做相似文档检索\n",
    "- doc2vec\n",
    "- [参考](https://zhuanlan.zhihu.com/p/80737146) jieba除去停用词"
   ]
  },
  {
   "cell_type": "markdown",
   "metadata": {},
   "source": [
    "1、向量检索这部分本质上就是一个anns的问题，查找距离最近的向量再排序。\n",
    "\n",
    "2、Es7里面这部分的支持本身是一个实验性质的，这个在官网上游说明的，而且这部分也是是个暴利计算的knn的过程，向量维度过大，或者量在几万到几十万的时候时间就开始有点长了，量稍微一大基本没法用的。\n",
    "\n",
    "3、回到问题得本质anns这类问题的本质处理，还是要做优质的索引结构来减低检索的复杂度和时间，lsh和kdtree、pq这种主要是对精度损失有点大，目前趋势还是在图索引上的发展，比较有代表还是hnsw以及阿里和浙大的一起出的nsg和nsg的算法，hnsw这个就是内存有点大，但是有开源比较好的实现。\n",
    "\n",
    "4、至于es的插件实现，有暴利的knn的插件，大概率大家可能都是用的这种，因为es7以下的只能这么弄，写脚本的，这个速度肯定起不来的，再就是在脚本中实现索引算法和实现的，相对麻烦，因为要从插入，检索，索引增量等多个角度来从插件来扩展es，这种事比较完美的。\n",
    "\n",
    "5、还有就是这部分不管是暴利的还是算法实现，底层用c的代码实现（avx等等指令集）要比java快至少在几十倍往上，\n",
    "\n",
    "6、再就是一些算法的并发检索等一些在量上和检索速度上的优化。"
   ]
  }
 ],
 "metadata": {
  "interpreter": {
   "hash": "c5a0b890a7e79b4721f05b3ff9494c1f611fd8f7b88beab7f445c8fe1e25a018"
  },
  "kernelspec": {
   "display_name": "Python 3.7.11 64-bit ('cpm-finetune': conda)",
   "language": "python",
   "name": "python3"
  },
  "language_info": {
   "codemirror_mode": {
    "name": "ipython",
    "version": 3
   },
   "file_extension": ".py",
   "mimetype": "text/x-python",
   "name": "python",
   "nbconvert_exporter": "python",
   "pygments_lexer": "ipython3",
   "version": "3.8.13"
  },
  "orig_nbformat": 4
 },
 "nbformat": 4,
 "nbformat_minor": 2
}
