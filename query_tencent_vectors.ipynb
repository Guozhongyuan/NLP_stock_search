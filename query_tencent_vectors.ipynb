{
 "cells": [
  {
   "cell_type": "code",
   "execution_count": 1,
   "metadata": {},
   "outputs": [],
   "source": [
    "import numpy as np\n",
    "from tqdm import tqdm\n",
    "\n",
    "data = np.load('./data/eastmoney_full_stocks_list_nlu_tencent.pkl', allow_pickle=True)"
   ]
  },
  {
   "cell_type": "code",
   "execution_count": 2,
   "metadata": {},
   "outputs": [
    {
     "data": {
      "text/plain": [
       "{'ticker_id': '603987',\n",
       " 'ticker_name': '康德莱',\n",
       " 'baike_summary': '浙江康德莱医疗器械股份有限公司成立于1987年，是康德莱集团属下一家专业生产一次性针类系列医疗器械的制造厂家。主要是生产加工,经销批发医疗器械。',\n",
       " 'baike_content': '浙江康德莱医疗器械股份有限公司成立于1987年，系康德莱集团属下一家专业生产一次性针类系列医疗器械的制造厂家。2009年度公司实现产值26656万元，出口创汇超6220万元，实现利税4848万元。公司拥有十万级净化车间七千多平方米,是浙江省“高新技术企业”，浙江省AAA信用单位；公司生产的“一次性使用采血针”获得了省高新技术产品称号，“一次性使用无菌注射针”获得浙江省名牌产品称号。公司现具有年产60亿支各类医用针尖、30亿支一次性使用注射针的能力，为国内同行前列。公司以科学的管理、先进的技术、齐全的品种、高档的质量、优质的服务赢得了国内外广大用户的青睐，于1998年在同行业首家通过CMDC认证后，又先后通欧盟TUV和美国FDA工厂审核。产品不仅销往全国各地，还远销美国、欧洲、南美、非洲、中东、东南亚等数十个国家和地区，出口达30多个品种，在国际市场占据了一定的份额。康德莱集团现担任中国医疗器械协会高分子分会理事长单位，总裁张宪淼先生是医疗器械高分子分会理事长，浙江康德莱股份公司担任中国注射器、针标准化技术委员会主任单位。现行的 “制造医疗器械用不锈钢针管”、“一次性使用血样采集针”、“一次性使用牙科注射针”、“一次性使用静脉输液针”等国家标准和行业标准均由公司承担起草。康德莱正以共生理念为指导，以“创造KDL名牌，取信亿万用户”为质量方针，以造福人类为宗旨，以满足客户的需求为目标而不懈追求，努力挤身全球医用针制造行业三强之列。2020年1月20日，评为2019 年度温州市市长质量奖企业。[1]2021年10月，入选2021年浙江省省级新一代信息技术与制造业融合发展试点示范企业名单（网络协同制造方向）。[2]',\n",
       " 'baike_url': 'https://baike.baidu.com/item/康德莱',\n",
       " 'text_keyword': [{\"Score\": 1.0, \"Word\": \"公司\"},\n",
       "  {\"Score\": 0.88982016, \"Word\": \"医疗器械\"},\n",
       "  {\"Score\": 0.69142354, \"Word\": \"浙江省\"},\n",
       "  {\"Score\": 0.6476816, \"Word\": \"针\"},\n",
       "  {\"Score\": 0.619902, \"Word\": \"注射针\"},\n",
       "  {\"Score\": 0.6144252, \"Word\": \"制造\"},\n",
       "  {\"Score\": 0.58027697, \"Word\": \"技术\"},\n",
       "  {\"Score\": 0.57011515, \"Word\": \"产品\"},\n",
       "  {\"Score\": 0.56897545, \"Word\": \"用户\"},\n",
       "  {\"Score\": 0.56668705, \"Word\": \"品种\"},\n",
       "  {\"Score\": 0.55956155, \"Word\": \"行业\"},\n",
       "  {\"Score\": 0.5518364, \"Word\": \"康德莱集团\"},\n",
       "  {\"Score\": 0.5193484, \"Word\": \"单位\"},\n",
       "  {\"Score\": 0.502113, \"Word\": \"企业\"},\n",
       "  {\"Score\": 0.45472413, \"Word\": \"高分子\"},\n",
       "  {\"Score\": 0.45368028, \"Word\": \"分会\"},\n",
       "  {\"Score\": 0.45321786, \"Word\": \"理事长\"},\n",
       "  {\"Score\": 0.39482775, \"Word\": \"高新技术\"},\n",
       "  {\"Score\": 0.3924612, \"Word\": \"厂家\"},\n",
       "  {\"Score\": 0.36895323, \"Word\": \"试点\"},\n",
       "  {\"Score\": 0.36446825, \"Word\": \"称号\"},\n",
       "  {\"Score\": 0.35745487, \"Word\": \"发展\"},\n",
       "  {\"Score\": 0.34765783, \"Word\": \"融合\"},\n",
       "  {\"Score\": 0.33645958, \"Word\": \"示范\"},\n",
       "  {\"Score\": 0.3358695, \"Word\": \"制造业\"},\n",
       "  {\"Score\": 0.33228558, \"Word\": \"系列\"},\n",
       "  {\"Score\": 0.32576707, \"Word\": \"非洲\"},\n",
       "  {\"Score\": 0.3225992, \"Word\": \"南美\"},\n",
       "  {\"Score\": 0.32228953, \"Word\": \"中东\"},\n",
       "  {\"Score\": 0.3219856, \"Word\": \"欧洲\"}]}"
      ]
     },
     "execution_count": 2,
     "metadata": {},
     "output_type": "execute_result"
    }
   ],
   "source": [
    "data[0]"
   ]
  },
  {
   "cell_type": "code",
   "execution_count": 3,
   "metadata": {},
   "outputs": [],
   "source": [
    "# use tecent to analyze\n",
    "\n",
    "import pandas as pd\n",
    "from tqdm import tqdm\n",
    "from utils.tencent_api import TencentNLU\n",
    "import pickle\n",
    "\n",
    "config = {\n",
    "    'SecretId': 'AKIDlMhlY5LK2TdXBYfV4MO9droVv4vWrugB',\n",
    "    'SecretKey': 'GFxOYS7VdT2KM8cpqa3E8l7C0Zsue9OL',\n",
    "}\n",
    "\n",
    "nlu_tool = TencentNLU(config)"
   ]
  },
  {
   "cell_type": "code",
   "execution_count": 4,
   "metadata": {},
   "outputs": [
    {
     "name": "stderr",
     "output_type": "stream",
     "text": [
      "100%|██████████| 510/510 [02:05<00:00,  4.07it/s]\n"
     ]
    }
   ],
   "source": [
    "all = []\n",
    "\n",
    "for item in tqdm(data):\n",
    "\n",
    "    try:\n",
    "        title = item['baike_summary']\n",
    "        content = item['baike_content']\n",
    "        input = (title + content)[0:400]\n",
    "        resp = nlu_tool.get_text_vector(input)\n",
    "\n",
    "        one = {\n",
    "            'ticker_id': item['ticker_id'],\n",
    "            'ticker_name': item['ticker_name'],\n",
    "            'vector': np.array(resp.Vector),\n",
    "        }\n",
    "\n",
    "        all.append(one)\n",
    "\n",
    "    except Exception:\n",
    "        pass\n",
    "\n",
    "with open('./data_ignore/vectors_tencent_api.pkl','wb') as f:\n",
    "    pickle.dump(all, f)"
   ]
  },
  {
   "cell_type": "code",
   "execution_count": null,
   "metadata": {},
   "outputs": [],
   "source": []
  },
  {
   "cell_type": "code",
   "execution_count": 5,
   "metadata": {},
   "outputs": [],
   "source": [
    "data = np.load('./data_ignore/vectors_tencent_api.pkl', allow_pickle=True)"
   ]
  },
  {
   "cell_type": "code",
   "execution_count": 6,
   "metadata": {},
   "outputs": [
    {
     "name": "stderr",
     "output_type": "stream",
     "text": [
      "100%|██████████| 510/510 [00:00<00:00, 505337.83it/s]\n"
     ]
    }
   ],
   "source": [
    "ticker_names = []\n",
    "ticker_ids = []\n",
    "vectors = []\n",
    "\n",
    "for idx in tqdm(range(len(data))):\n",
    "    if 'vector' in data[idx].keys():\n",
    "        vectors.append(data[idx]['vector'])\n",
    "        ticker_ids.append(data[idx]['ticker_id'])\n",
    "        ticker_names.append(data[idx]['ticker_name'])\n"
   ]
  },
  {
   "cell_type": "code",
   "execution_count": 7,
   "metadata": {},
   "outputs": [],
   "source": [
    "vectors = np.stack(vectors)"
   ]
  },
  {
   "cell_type": "code",
   "execution_count": 8,
   "metadata": {},
   "outputs": [
    {
     "data": {
      "text/plain": [
       "(510, 768)"
      ]
     },
     "execution_count": 8,
     "metadata": {},
     "output_type": "execute_result"
    }
   ],
   "source": [
    "vectors.shape"
   ]
  },
  {
   "cell_type": "code",
   "execution_count": 9,
   "metadata": {},
   "outputs": [],
   "source": [
    "def similarity_vector_matrix(arr, brr):\n",
    "    return arr.dot(brr.T) / (np.sqrt(np.sum(arr*arr)) * np.sqrt(np.sum(brr*brr, axis=1)))"
   ]
  },
  {
   "cell_type": "code",
   "execution_count": 10,
   "metadata": {},
   "outputs": [],
   "source": [
    "def stock_search(query, topk=10):\n",
    "\n",
    "    # query = '医疗保险，重大疾病保障'\n",
    "\n",
    "    resp = nlu_tool.get_text_vector(query)\n",
    "    vector = np.array(resp.Vector)\n",
    "\n",
    "    res = similarity_vector_matrix(vector, vectors)\n",
    "    idxs = np.argsort(res)[::-1]\n",
    "\n",
    "    topk_idxs = idxs[:10]\n",
    "    names = [ticker_names[idx] for idx in topk_idxs]\n",
    "    print(names)"
   ]
  },
  {
   "cell_type": "markdown",
   "metadata": {},
   "source": [
    "- 自动驾驶，新能源汽车\n",
    "- 电影，电视剧，文化艺术\n",
    "- 啤酒，烧烤，朋友聚会\n",
    "- 医疗保险，重大疾病保障\n",
    "- 新冠肺炎"
   ]
  },
  {
   "cell_type": "code",
   "execution_count": 11,
   "metadata": {},
   "outputs": [
    {
     "name": "stdout",
     "output_type": "stream",
     "text": [
      "['杉杉股份', '新希望', '阿尔特', '新大陆', '宝钢股份', '高德红外', '中国能建', '新经典', '千方科技', '三安光电']\n"
     ]
    }
   ],
   "source": [
    "query = '自动驾驶，新能源汽车'\n",
    "stock_search(query)"
   ]
  },
  {
   "cell_type": "code",
   "execution_count": 12,
   "metadata": {},
   "outputs": [
    {
     "name": "stdout",
     "output_type": "stream",
     "text": [
      "['新华网', '中国核电', '京沪高铁', '中海油服', '片仔癀', '伯特利', '金地集团', '新大陆', '金徽酒', '新华医疗']\n"
     ]
    }
   ],
   "source": [
    "query = '电影，电视剧，文化艺术'\n",
    "stock_search(query)"
   ]
  },
  {
   "cell_type": "code",
   "execution_count": 13,
   "metadata": {},
   "outputs": [
    {
     "name": "stdout",
     "output_type": "stream",
     "text": [
      "['金徽酒', '中国长城', '中国石油', '汉钟精机', '四川路桥', '高德红外', '双汇发展', '东方集团', '中科电气', '长城汽车']\n"
     ]
    }
   ],
   "source": [
    "query = '啤酒，烧烤，朋友聚会'\n",
    "stock_search(query)"
   ]
  },
  {
   "cell_type": "code",
   "execution_count": 14,
   "metadata": {},
   "outputs": [
    {
     "name": "stdout",
     "output_type": "stream",
     "text": [
      "['宁波银行', '健康元', '贵州茅台', '重庆啤酒', '爱尔眼科', '中青旅', '今世缘', '滨江集团', '中航重机', '绿色动力']\n"
     ]
    }
   ],
   "source": [
    "query = '医疗保险，重大疾病保障'\n",
    "stock_search(query)"
   ]
  },
  {
   "cell_type": "code",
   "execution_count": 15,
   "metadata": {},
   "outputs": [
    {
     "name": "stdout",
     "output_type": "stream",
     "text": [
      "['华能国际', '中国化学', '中青旅', '万华化学', '振华科技', '步步高', '中国联通', '华鲁恒升', '奥佳华', '贵州茅台']\n"
     ]
    }
   ],
   "source": [
    "query = '新冠肺炎'\n",
    "stock_search(query)"
   ]
  },
  {
   "cell_type": "code",
   "execution_count": null,
   "metadata": {},
   "outputs": [],
   "source": []
  }
 ],
 "metadata": {
  "interpreter": {
   "hash": "15d51a80c8523c0d895fb35f7540c75abd446de76bbe33959811c01c8d0e84fa"
  },
  "kernelspec": {
   "display_name": "Python 3.8.13 ('gpt')",
   "language": "python",
   "name": "python3"
  },
  "language_info": {
   "codemirror_mode": {
    "name": "ipython",
    "version": 3
   },
   "file_extension": ".py",
   "mimetype": "text/x-python",
   "name": "python",
   "nbconvert_exporter": "python",
   "pygments_lexer": "ipython3",
   "version": "3.8.13"
  },
  "orig_nbformat": 4
 },
 "nbformat": 4,
 "nbformat_minor": 2
}
