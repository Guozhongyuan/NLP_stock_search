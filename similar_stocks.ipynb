{
 "cells": [
  {
   "cell_type": "code",
   "execution_count": 2,
   "metadata": {},
   "outputs": [],
   "source": [
    "import numpy as np\n",
    "from tqdm import tqdm\n",
    "\n",
    "data = np.load('./data_ignore/vectors_gpt2.pkl', allow_pickle=True)"
   ]
  },
  {
   "cell_type": "code",
   "execution_count": 17,
   "metadata": {},
   "outputs": [],
   "source": [
    "info = np.load('./data/eastmoney_full_stocks_list_nlu_tencent.pkl', allow_pickle=True)"
   ]
  },
  {
   "cell_type": "code",
   "execution_count": 43,
   "metadata": {},
   "outputs": [],
   "source": [
    "info_dict = {}\n",
    "for item in info:\n",
    "    info_dict[item['ticker_id']] = item['baike_summary']"
   ]
  },
  {
   "cell_type": "code",
   "execution_count": 3,
   "metadata": {},
   "outputs": [
    {
     "name": "stderr",
     "output_type": "stream",
     "text": [
      "100%|██████████| 510/510 [00:00<00:00, 344127.26it/s]\n"
     ]
    }
   ],
   "source": [
    "ticker_names = []\n",
    "ticker_ids = []\n",
    "vectors = []\n",
    "\n",
    "for idx in tqdm(range(len(data))):\n",
    "    if 'vector' in data[idx].keys():\n",
    "        vectors.append(data[idx]['vector'])\n",
    "        ticker_ids.append(data[idx]['ticker_id'])\n",
    "        ticker_names.append(data[idx]['ticker_name'])\n",
    "\n",
    "vectors = np.stack(vectors)"
   ]
  },
  {
   "cell_type": "code",
   "execution_count": 4,
   "metadata": {},
   "outputs": [],
   "source": [
    "def similarity_vector_matrix(arr, brr):\n",
    "    return arr.dot(brr.T) / (np.sqrt(np.sum(arr*arr)) * np.sqrt(np.sum(brr*brr, axis=1)))"
   ]
  },
  {
   "cell_type": "code",
   "execution_count": 47,
   "metadata": {},
   "outputs": [],
   "source": [
    "def stock_search(query_idx, topk=10):\n",
    "\n",
    "    query_id = ticker_ids[query_idx]\n",
    "    query_name = ticker_names[query_idx]\n",
    "    vector = vectors[query_idx]\n",
    "\n",
    "    res = similarity_vector_matrix(vector, vectors)\n",
    "    idxs = np.argsort(res)[::-1]\n",
    "\n",
    "    topk_idxs = idxs[:topk+1]\n",
    "    res_ids = [ticker_ids[idx] for idx in topk_idxs if ticker_ids[idx]!=query_id]\n",
    "    res_names = [ticker_names[idx] for idx in topk_idxs if ticker_names[idx]!=query_name]\n",
    "\n",
    "    print('-----query-----')\n",
    "    print(query_id, query_name, info_dict[query_id][:70])\n",
    "\n",
    "    print()\n",
    "    print('-----result-----')\n",
    "    for id, name in zip(res_ids,res_names):\n",
    "        print(id, name, info_dict[id][:70])"
   ]
  },
  {
   "cell_type": "code",
   "execution_count": 49,
   "metadata": {},
   "outputs": [
    {
     "name": "stdout",
     "output_type": "stream",
     "text": [
      "-----query-----\n",
      "605337 李子园 李子园是上海一个商业楼盘。\n",
      "\n",
      "-----result-----\n",
      "002916 深南电路 深南电路位于深圳市南山区华侨城，共计房屋40户。\n",
      "600859 王府井 王府井大街（Wangfujing Street）位于中国北京市东城区，街道全长1818米，从南至北共分为4段，东长安街至东单三条段，长度为2\n",
      "601155 新城控股 新城控股集团股份有限公司(简称新城控股或新城控股集团，证券代码：601155.SH[52])，1993年创立于江苏省常州市，集团总部设于上海\n",
      "601898 中煤能源 中国中煤能源股份有限公司是中国中煤能源集团公司于2006年8月22日独家发起设立的股份制公司，位于中国北京朝阳区黄寺大街1号\n",
      "603816 顾家家居 顾家家居自创立以来，专业从事客餐厅及卧室家居产品的研究、开发、生产与销售。致力于为全球家庭提供舒适、安全、环保、人性化的客餐厅及卧室家居产品\n",
      "001979 招商蛇口 招商局蛇口工业区控股股份有限公司（简称：招商蛇口， 001979.SZ）位于深圳市南山区，成立于1979年，隶属于招商局集团旗下，从事城市综\n",
      "000786 北新建材 北新建材（北新集团建材股份有限公司，Beijing New Building Materials Public Limited Compan\n",
      "600754 锦江酒店 锦江酒店：酒店品牌\n",
      "600104 上汽集团 上汽拥有全球最完整的新能源产品型谱,包括插电混动车、纯电动车和氢燃料车型[126]；上汽集团自研的燃料电池系统技术性能已可比肩全球领先水平 \n",
      "002158 汉钟精机 上海汉钟精机股份有限公司是台湾汉钟精机股份有限公司转投资事业。占地40000平方米，保位于上海市西南门户枫泾古镇，沪杭高速公路与320国道交\n",
      "002375 亚厦股份 浙江亚厦装饰股份有限公司成立于1995年，注册资本133999.6498万元人民币[1]，股票代码：002375。经过二十多年[2]的发展壮\n",
      "600655 豫园股份 上海豫园旅游商城（集团）股份有限公司（简称：豫园股份600655.SH[2]）作为新中国最早上市企业之一，是中国资本市场三十年发展的见证者、\n",
      "002545 东方铁塔 青岛东方铁塔股份有限公司是一个具有法人资格的股份制大型企业，其前身青岛东方铁塔公司始建于1982年，1996年组建青岛东方铁塔集团有限公司，\n",
      "600039 四川路桥 四川路桥，又名“里摆渡桥”，北接虹口区四川北路，南接黄浦区四川中路，始建于清末，《上海县自治志》称为“白大桥”。因位于邮政局（旧称）大楼南，\n",
      "300083 创世纪 《创世纪》是TVB出品的时装商战电视剧，由戚其义监制，罗嘉良、陈锦鸿、郭晋安、古天乐、吴奇隆、郭可盈、陈慧珊、蔡少芬、汪明荃、邵美琪、马德钟\n",
      "002244 滨江集团 杭州滨江房产集团股份有限公司成立于1992年，具有建设部一级开发资质，全国民营企业500强，中国房地产企业50强，长三角房地产领军企业。\n",
      "600435 北方导航 北方导航科技集团有限公司（以下简称导航集团）隶属于中国兵器工业集团公司，由国家重点保军企业、上市公司、事业单位等多家企事业单位组建而成，现有\n",
      "300973 立高食品 立高食品股份有限公司成立于2000年05月11日，注册地位于广州市增城石滩镇工业园平岭工业区，法定代表人为彭裕辉。\n",
      "002765 蓝黛科技 蓝黛科技集团股份有限公司是一个企业。\n",
      "601169 北京银行 北京银行股份有限公司（英文简称 BOB），原称“北京市商业银行”，成立于1996年，是一家新型的股份制商业银行。\n"
     ]
    }
   ],
   "source": [
    "stock_search(11, topk=20)"
   ]
  },
  {
   "cell_type": "markdown",
   "metadata": {},
   "source": [
    "---\n",
    "### TODO\n",
    "1. company info have wrong message"
   ]
  },
  {
   "cell_type": "code",
   "execution_count": null,
   "metadata": {},
   "outputs": [],
   "source": []
  },
  {
   "cell_type": "markdown",
   "metadata": {},
   "source": [
    "### Vistualize"
   ]
  },
  {
   "cell_type": "code",
   "execution_count": null,
   "metadata": {},
   "outputs": [],
   "source": []
  }
 ],
 "metadata": {
  "interpreter": {
   "hash": "15d51a80c8523c0d895fb35f7540c75abd446de76bbe33959811c01c8d0e84fa"
  },
  "kernelspec": {
   "display_name": "Python 3.8.13 ('gpt')",
   "language": "python",
   "name": "python3"
  },
  "language_info": {
   "codemirror_mode": {
    "name": "ipython",
    "version": 3
   },
   "file_extension": ".py",
   "mimetype": "text/x-python",
   "name": "python",
   "nbconvert_exporter": "python",
   "pygments_lexer": "ipython3",
   "version": "3.8.13"
  },
  "orig_nbformat": 4
 },
 "nbformat": 4,
 "nbformat_minor": 2
}
